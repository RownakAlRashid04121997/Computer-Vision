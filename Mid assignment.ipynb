{
 "cells": [
  {
   "cell_type": "code",
   "execution_count": 1,
   "metadata": {},
   "outputs": [],
   "source": [
    "import numpy as np\n",
    "import os    \n",
    "import pickle \n",
    "import matplotlib.pyplot as plt"
   ]
  },
  {
   "cell_type": "code",
   "execution_count": 5,
   "metadata": {},
   "outputs": [],
   "source": [
    "def loadData(path):\n",
    "    L_files = os.listdir(path='cifar-10-batches-py/') #stores the list of entries from the cifar-10 folder\n",
    "    train = []   #creating train list to store training data\n",
    "    train_labels = [] #creating train labels for storing names\n",
    "        \n",
    "    print(\"The files \",L_files[1:6],\"are being trained \")  #How many training datas are clooected will be showed\n",
    "    \n",
    "    for file in L_files[1:6]: \n",
    "        with open(path+file,'rb') as fldr: # with statement opens and closes file data automaticly,rb=read binary\n",
    "            dict = pickle.load(fldr,encoding='bytes') \n",
    "            train.append(dict[b'data'])\n",
    "            train_labels.append(dict[b'labels'])\n",
    "\n",
    "    Dict_data = {} #creating dictionery for storing train data and train label\n",
    "    Dict_data['train_data'] = np.reshape(np.array(train),newshape=(np.array(train).shape[0]*np.array(train).shape[1],np.array(train).shape[2]))\n",
    "    Dict_data['train_labels'] = np.reshape(np.array(train_labels),newshape=(np.array(train_labels).shape[0]*np.array(train_labels).shape[1])) \n",
    "    return Dict_data  #The data of dictionary will be returned"
   ]
  },
  {
   "cell_type": "code",
   "execution_count": 6,
   "metadata": {},
   "outputs": [
    {
     "name": "stdout",
     "output_type": "stream",
     "text": [
      "The files  ['data_batch_1', 'data_batch_2', 'data_batch_3', 'data_batch_4', 'data_batch_5'] are being trained \n"
     ]
    }
   ],
   "source": [
    "Dataset = loadData(path='cifar-10-batches-py/')   #loading cifar-10 dataset"
   ]
  },
  {
   "cell_type": "code",
   "execution_count": 7,
   "metadata": {},
   "outputs": [
    {
     "data": {
      "text/plain": [
       "50000"
      ]
     },
     "execution_count": 7,
     "metadata": {},
     "output_type": "execute_result"
    }
   ],
   "source": [
    "Dataset['train_data'].shape[0]  #The number of images "
   ]
  },
  {
   "cell_type": "code",
   "execution_count": 8,
   "metadata": {},
   "outputs": [
    {
     "data": {
      "image/png": "[encoded data removed]",
      "text/plain": [
       "<Figure size 432x288 with 1 Axes>"
      ]
     },
     "metadata": {},
     "output_type": "display_data"
    }
   ],
   "source": [
    "temp = Dataset['train_data'][15]  #Data of image 15\n",
    "label = Dataset['train_labels'][15] #label of image 15\n",
    "\n",
    "\n",
    "R = temp[0:1024].reshape(32,32) #The image is converted into an 32*32 bot matrix,0 to 1024 is red\n",
    "G = np.reshape(temp[1024:2048],newshape=(32,32))#1024 to 1048 is blue\n",
    "B = np.reshape(temp[2048:],newshape=(32,32)) #From 2048 to rest is green\n",
    "temp = np.dstack((R,G,B))  #Based upon the depth R,G,B will be joined ,d stands for depth\n",
    "plt.imshow(temp)#tempis inparimeter in imshow\n",
    "plt.xticks([])#no tick in x\n",
    "plt.yticks([])#no tickin y\n",
    "plt.xlabel(label) #abel of the image will be shown in x axis\n",
    "plt.show()#for showing the image"
   ]
  },
  {
   "cell_type": "code",
   "execution_count": 10,
   "metadata": {},
   "outputs": [],
   "source": [
    "X_train, Y_train= Dataset['train_data'],Dataset['train_labels'] #For training of train data and train labels"
   ]
  },
  {
   "cell_type": "code",
   "execution_count": 11,
   "metadata": {},
   "outputs": [],
   "source": [
    "\n",
    "class kNearestNeighbour(object): \n",
    "    def __init__(self):\n",
    "        pass\n",
    "    \n",
    "    def train(self,X,Y): \n",
    "        self.Xtr = X #remembers training data\n",
    "        self.Ytr = Y #remembers training labels\n",
    "        \n",
    "    def predict(self,X,k):\n",
    "       \n",
    "        Testing_samples = X.shape[0]\n",
    "        \n",
    "        Ypred = np.zeros(Testing_samples,dtype=self.Ytr.dtype)\n",
    "        \n",
    "        for i in range(Testing_samples):\n",
    "            print(\"Testing sample = \",i,end=\"\\r\") #Samples are tested serially\n",
    "            \n",
    "            label_count = np.zeros(10,dtype=self.Ytr.dtype)   #label_count's sise is the number of categories \n",
    "            dist = np.sum(np.abs(X[i,:] - self.Xtr),axis=1)  #Comparing pixels\n",
    "           \n",
    "            idx = np.argpartition(dist,k)\n",
    "            min_ind = idx[:k] # Finding the minimum index\n",
    "            \n",
    "            for x in min_ind:\n",
    "                label_count[int(self.Ytr[x])] +=1\n",
    "            Ypred[i] = np.argmax(label_count)  #Maximum value at any index is returned using np.argmax() \n",
    "    \n",
    "        return Ypred \n",
    "    "
   ]
  },
  {
   "cell_type": "code",
   "execution_count": null,
   "metadata": {},
   "outputs": [
    {
     "name": "stdout",
     "output_type": "stream",
     "text": [
      "fold 0\n",
      "k 1\n",
      "k 2ting sample =  9999\n",
      "k 3ting sample =  9999\n",
      "k 4ting sample =  9999\n",
      "k 5ting sample =  9999\n",
      "Testing sample =  5987\r"
     ]
    }
   ],
   "source": [
    "Num_fold = 5  # Number of folds=5\n",
    "Num_train = 50000\n",
    "\n",
    "k_choices = [1,2,3,4,5,6,7,8,9,10,11,12,13,14,15,16,17,18,19,20] #The bigger size k_choices will be,the more accurate answer will come\n",
    "\n",
    "if Num_train/Num_fold % Num_fold != 0.0:\n",
    "    raise ValueError('Number of training samples are not evenly divisible by the number of folds.') #Samples can't be equally distributed in folds\n",
    "    \n",
    "\n",
    "X_train_folds = np.split(X_train, Num_fold) #datas are folded\n",
    "y_train_folds = np.split(Y_train, Num_fold) #labels are folded\n",
    "\n",
    "\n",
    "k_to_accuracies = {} # Accuracy values that are found when using that value of k.\n",
    "\n",
    "\n",
    "for k in k_choices:\n",
    "    k_to_accuracies[k] = []\n",
    "    \n",
    "for idx in range(Num_fold):\n",
    "    print(\"fold\",idx,end=\"\\n\")  #To know the current number of fold\n",
    "    \n",
    "    X_train_set = np.concatenate((*X_train_folds[:idx], *X_train_folds[idx+1:]), axis=0) #concatenates other folds exept the validation fold\n",
    "    y_train_set = np.concatenate((*y_train_folds[:idx], *y_train_folds[idx+1:]), axis=0)\n",
    "    X_validation_set = X_train_folds[idx] #The fold that is being validated\n",
    "    y_validation_set = y_train_folds[idx]   \n",
    "    num_validation_set = X_validation_set.shape[0]\n",
    "\n",
    "   \n",
    "    knn = kNearestNeighbour()\n",
    "    knn.train(X_train_set, y_train_set) #Knearestneighbour is being trained\n",
    " \n",
    "    \n",
    "    for k in k_choices:\n",
    "        print(\"k\",k,end=\"\\n\")  #To know the current number of K\n",
    "        \n",
    "        y_validation_pred = knn.predict(X_validation_set,k)  # Predicts the labels for validation set\n",
    "       \n",
    "        accuracy = np.mean(y_validation_pred==y_validation_set)  # Comparing validation prediction with validation set\n",
    "\n",
    "        k_to_accuracies[k].append(accuracy) \n",
    "        "
   ]
  },
  {
   "cell_type": "code",
   "execution_count": null,
   "metadata": {},
   "outputs": [],
   "source": [
    "for k in sorted(k_to_accuracies):\n",
    "    for accuracy in k_to_accuracies[k]:\n",
    "        print('k = %d, accuracy = %f' % (k, accuracy))  # The accuracies are being printed\n",
    "    "
   ]
  },
  {
   "cell_type": "code",
   "execution_count": null,
   "metadata": {},
   "outputs": [],
   "source": [
    "for k in k_choices:\n",
    "    accuracies = k_to_accuracies[k]\n",
    "    print('k = %d, average accuracy = %f' % (k, np.average(accuracies)))  # The average is printed\n",
    "    plt.scatter([k] * len(accuracies), accuracies) \n",
    "    \n",
    "\n",
    "Accuracies_mean = np.array([np.mean(v) for k,v in sorted(k_to_accuracies.items())]) #Mean of accuracies calculated \n",
    "Accuracies_std = np.array([np.std(v) for k,v in sorted(k_to_accuracies.items())]) #Standard Deviation is calculated\n",
    "plt.errorbar(k_choices, Accuracies_mean, yerr=Accuracies_std)  #Errorbars are plotted\n",
    "plt.title('cross validation on k')\n",
    "plt.xlabel('k')\n",
    "plt.ylabel('cross validation accuracy')\n",
    "plt.show()#The graph is shown"
   ]
  }
 ],
 "metadata": {
  "kernelspec": {
   "display_name": "Python 3",
   "language": "python",
   "name": "python3"
  },
  "language_info": {
   "codemirror_mode": {
    "name": "ipython",
    "version": 3
   },
   "file_extension": ".py",
   "mimetype": "text/x-python",
   "name": "python",
   "nbconvert_exporter": "python",
   "pygments_lexer": "ipython3",
   "version": "3.8.3"
  }
 },
 "nbformat": 4,
 "nbformat_minor": 4
}
